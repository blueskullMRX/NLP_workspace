{
 "cells": [
  {
   "cell_type": "markdown",
   "id": "58cd7737",
   "metadata": {},
   "source": [
    "# Devoir 3 :PRÉTRAITEMENT DE TEXTE MÉDICAL COMPLEXE"
   ]
  },
  {
   "cell_type": "code",
   "execution_count": 111,
   "id": "2a8cb104",
   "metadata": {},
   "outputs": [],
   "source": [
    "import re\n",
    "from nltk import word_tokenize, sent_tokenize"
   ]
  },
  {
   "cell_type": "markdown",
   "id": "ae9b4972",
   "metadata": {},
   "source": [
    "## text to process"
   ]
  },
  {
   "cell_type": "code",
   "execution_count": 112,
   "id": "9c5aa49a",
   "metadata": {},
   "outputs": [],
   "source": [
    "texte_medical = \"\"\"\n",
    "Pat. 45ans admis le 12/03/25 pour COVID-19 sévère.\n",
    "CRP: 125mg/L (N<5) - Fièvre à 39.2°C.\n",
    "Ttt par corticoïdes IV + azithromycine 500mg/J.\n",
    "#Attention: allergie à la pénicilline!\n",
    "\"\"\""
   ]
  },
  {
   "cell_type": "code",
   "execution_count": 113,
   "id": "e34d4ec4",
   "metadata": {},
   "outputs": [],
   "source": [
    "\n",
    "abreviations = {\n",
    "    \"BID\": \"bis in die\",\n",
    "    \"IV\": \"intraveineuse\"\n",
    "}\n",
    "\n",
    "corrections_medicales = {\n",
    "    \"pat\\\\.\": \"patient\",\n",
    "    \"Ttt\": \"traitement\",\n",
    "    \"corticoïdes\": \"glucocorticoides\",\n",
    "    r\"\\+\\+fébrile\": \"hyperthermique\",\n",
    "    \"hyp0glycémie\": \"hypoglycémie\",\n",
    "    \"IV\": \"intraveineuse\"\n",
    "}"
   ]
  },
  {
   "cell_type": "markdown",
   "id": "63eea00f",
   "metadata": {},
   "source": [
    "### Nettoyage"
   ]
  },
  {
   "cell_type": "code",
   "execution_count": 114,
   "id": "03f12dd9",
   "metadata": {},
   "outputs": [],
   "source": [
    "import re\n",
    "\n",
    "def nettoyage(texte):\n",
    "    # 1. Remplacer les abréviations et erreurs de transcription\n",
    "    for abbr, remplacement in corrections_medicales.items():\n",
    "        texte = re.sub(abbr, remplacement, texte, flags=re.IGNORECASE)\n",
    "    \n",
    "    # 2. Supprimer les dates (ex: 12/03/25)\n",
    "    texte = re.sub(r'\\b\\d{1,2}/\\d{1,2}/\\d{2,4}\\b', '', texte)\n",
    "    \n",
    "    # 3. Supprimer les valeurs numériques avec unités (ex: 125mg/L)\n",
    "    texte = re.sub(r'\\b\\d+(?:\\.\\d+)?\\s*[a-zA-Z/]+(?:/[a-zA-Z]+)?\\b', '', texte)\n",
    "    \n",
    "    # 4. Supprimer les caractères spéciaux inutiles (#, °, etc.)\n",
    "    texte = re.sub(r'[#°]', '', texte)\n",
    "    \n",
    "    # 5. Supprimer les espaces multiples inutiles\n",
    "    texte = re.sub(r'\\s+', ' ', texte).strip()\n",
    "    \n",
    "    return texte\n",
    "\n",
    "\n"
   ]
  },
  {
   "cell_type": "markdown",
   "id": "a3cd1fcd",
   "metadata": {},
   "source": [
    "### tokenization"
   ]
  },
  {
   "cell_type": "code",
   "execution_count": 115,
   "id": "026faa6c",
   "metadata": {},
   "outputs": [],
   "source": [
    "def tokeniser_texte(texte):\n",
    "    # Séparer les doses (ex: 500mg/J → ['500', 'mg', '/', 'J'])\n",
    "    texte = re.sub(r'(\\d+)(mg|g|ml|L|UI|µg)', r'\\1 \\2', texte)\n",
    "    texte = re.sub(r'([a-zA-Z]+)(/)([a-zA-Z]+)', r'\\1 / \\3', texte)\n",
    "    # Conserver les concepts composés (COVID-19, etc.)\n",
    "    tokens = re.findall(r'\\b\\w+(?:-\\w+)*\\b|[^\\w\\s]', texte)\n",
    "    return tokens"
   ]
  },
  {
   "cell_type": "markdown",
   "id": "5575ba70",
   "metadata": {},
   "source": [
    "### Normalisation"
   ]
  },
  {
   "cell_type": "code",
   "execution_count": 116,
   "id": "e4d3fb89",
   "metadata": {},
   "outputs": [],
   "source": [
    "import re\n",
    "\n",
    "def normalisation_experte(tokens):\n",
    "    nouveaux_tokens = []\n",
    "    \n",
    "    for token in tokens:\n",
    "        token_normalise = token\n",
    "        for motif, remplacement in corrections_medicales.items():\n",
    "            if re.fullmatch(motif, token):\n",
    "                token_normalise = remplacement\n",
    "                break\n",
    "        nouveaux_tokens.append(token_normalise)\n",
    "    \n",
    "    return nouveaux_tokens\n"
   ]
  },
  {
   "cell_type": "markdown",
   "id": "f38a8d97",
   "metadata": {},
   "source": [
    "### Pipeline\n"
   ]
  },
  {
   "cell_type": "code",
   "execution_count": 117,
   "id": "4bd08916",
   "metadata": {},
   "outputs": [],
   "source": [
    "def Pipline(texte):\n",
    "    texte = nettoyage(texte)\n",
    "    token = tokeniser_texte(texte)\n",
    "    normalizedtoken = normalisation_experte(token)\n",
    "    return normalizedtoken"
   ]
  },
  {
   "cell_type": "code",
   "execution_count": 118,
   "id": "7cd903ac",
   "metadata": {},
   "outputs": [
    {
     "data": {
      "text/plain": [
       "['patient',\n",
       " 'admis',\n",
       " 'le',\n",
       " 'pour',\n",
       " 'COVID-19',\n",
       " 'sévère',\n",
       " '.',\n",
       " 'CRP',\n",
       " ':',\n",
       " '(',\n",
       " 'N',\n",
       " '<',\n",
       " '5',\n",
       " ')',\n",
       " '-',\n",
       " 'Fièvre',\n",
       " 'à',\n",
       " '39',\n",
       " '.',\n",
       " '2C',\n",
       " '.',\n",
       " 'traitement',\n",
       " 'par',\n",
       " 'glucocorticoides',\n",
       " 'intraveineuse',\n",
       " '+',\n",
       " 'azithromycine',\n",
       " '.',\n",
       " 'Attention',\n",
       " ':',\n",
       " 'allergie',\n",
       " 'à',\n",
       " 'la',\n",
       " 'pénicilline',\n",
       " '!']"
      ]
     },
     "execution_count": 118,
     "metadata": {},
     "output_type": "execute_result"
    }
   ],
   "source": [
    "result = Pipline(texte_medical)\n",
    "result"
   ]
  },
  {
   "cell_type": "markdown",
   "id": "a90e3b28",
   "metadata": {},
   "source": [
    "bonus(deleting the stop-words)"
   ]
  },
  {
   "cell_type": "code",
   "execution_count": 119,
   "id": "38059760",
   "metadata": {},
   "outputs": [],
   "source": [
    "from nltk.corpus import stopwords\n",
    "def stopwordsdelete(result):\n",
    "    stopwordslist = set(stopwords.words('french'))\n",
    "    final_tokens = [token for token in result if token.lower() not in stopwordslist]\n",
    "    return final_tokens"
   ]
  },
  {
   "cell_type": "code",
   "execution_count": 120,
   "id": "843d8379",
   "metadata": {},
   "outputs": [
    {
     "name": "stderr",
     "output_type": "stream",
     "text": [
      "[nltk_data] Downloading package stopwords to\n",
      "[nltk_data]     C:\\Users\\AMGZA\\AppData\\Roaming\\nltk_data...\n",
      "[nltk_data]   Package stopwords is already up-to-date!\n"
     ]
    },
    {
     "data": {
      "text/plain": [
       "True"
      ]
     },
     "execution_count": 120,
     "metadata": {},
     "output_type": "execute_result"
    }
   ],
   "source": [
    "import nltk\n",
    "nltk.download('stopwords')\n",
    "\n",
    "\n"
   ]
  },
  {
   "cell_type": "code",
   "execution_count": 121,
   "id": "797380e8",
   "metadata": {},
   "outputs": [
    {
     "data": {
      "text/plain": [
       "['patient',\n",
       " 'admis',\n",
       " 'COVID-19',\n",
       " 'sévère',\n",
       " '.',\n",
       " 'CRP',\n",
       " ':',\n",
       " '(',\n",
       " '<',\n",
       " '5',\n",
       " ')',\n",
       " '-',\n",
       " 'Fièvre',\n",
       " '39',\n",
       " '.',\n",
       " '2C',\n",
       " '.',\n",
       " 'traitement',\n",
       " 'glucocorticoides',\n",
       " 'intraveineuse',\n",
       " '+',\n",
       " 'azithromycine',\n",
       " '.',\n",
       " 'Attention',\n",
       " ':',\n",
       " 'allergie',\n",
       " 'pénicilline',\n",
       " '!']"
      ]
     },
     "execution_count": 121,
     "metadata": {},
     "output_type": "execute_result"
    }
   ],
   "source": [
    "finaltokens = stopwordsdelete(result)\n",
    "finaltokens"
   ]
  },
  {
   "cell_type": "markdown",
   "id": "8ca8b974",
   "metadata": {},
   "source": [
    "# Tester le pipline sur des comptes-rendus hospitaliers"
   ]
  },
  {
   "cell_type": "code",
   "execution_count": 126,
   "id": "1be8704d",
   "metadata": {},
   "outputs": [],
   "source": [
    "compterendus1 =\"\"\"\n",
    "Pat. 68ans, consulté le 05/04/25 pr dyspnée aiguë.\n",
    "TDM thoracique montre COVID-19 avec opacités bilatérales.\n",
    "Ttt par O2 à 4L/min + corticothérapie IV.\n",
    "#Notes: hyp0glycémie détectée ce matin.\n",
    "\n",
    "\"\"\"\n",
    "\n",
    "\n",
    "compterendus2 =\"\"\"\n",
    "Pat. 23ans admis le 18/02/25 pour trauma crânien.\n",
    "CRP: 230mg/L - Température: 38.5°C.\n",
    "Ttt initial: paracétamol 1g/6h IV + surveillance BID.\n",
    "#Attention: antécédent allergie pénicilline++.\n",
    "\n",
    "\n",
    "\"\"\"\n",
    "compterendus3 =\"\"\"\n",
    "Pat. 75ans en USI, 10/03/25, pour pneumopathie sévère.\n",
    "Fièvre ++fébrile à 40°C, O2 6L/min.\n",
    "Ttt: azithromycine 500mg/J, suivi glycémie car risque hyp0glycémie.\n",
    "\n",
    "\"\"\""
   ]
  },
  {
   "cell_type": "code",
   "execution_count": 125,
   "id": "02a28cb1",
   "metadata": {},
   "outputs": [
    {
     "name": "stdout",
     "output_type": "stream",
     "text": [
      "['patient', ',', 'consulté', 'pr', 'dyspnée', 'aiguë', '.', 'TDM', 'thoracique', 'montre', 'COVID', '-', 'opacités', 'bilatérales', '.', 'traitement', 'O2', '+', 'corticothérapie', 'intraveineuse', '.', 'Notes', ':', 'hypoglycémie', 'détectée', 'matin', '.']\n",
      "\n",
      "\n",
      "--------------------------------------------------\n",
      "\n",
      "\n",
      "['patient', 'admis', 'trauma', 'crânien', '.', 'CRP', ':', '-', 'Température', ':', '38', '.', '5C', '.', 'traitement', 'initial', ':', 'paracétamol', 'intraveineuse', '+', 'surveillance', 'BID', '.', 'Attention', ':', 'antécédent', 'allergie', 'pénicilline', '+', '+', '.']\n",
      "\n",
      "\n",
      "--------------------------------------------------\n",
      "\n",
      "\n",
      "['patient', 'USI', ',', ',', 'pneumopathie', 'sévère', '.', 'Fièvre', 'hyperthermique', '40C', ',', 'O2', '.', 'traitement', ':', 'azithromycine', ',', 'suintraveineusei', 'glycémie', 'car', 'risque', 'hypoglycémie', '.']\n",
      "\n",
      "\n",
      "--------------------------------------------------\n",
      "\n",
      "\n"
     ]
    }
   ],
   "source": [
    "test = [compterendus1, compterendus2, compterendus3]\n",
    "\n",
    "for texte in test:\n",
    "    result = Pipline(texte)\n",
    "    finaltokens = stopwordsdelete(result)\n",
    "\n",
    "    print(finaltokens)\n",
    "    print(\"\\n\")\n",
    "    print(\"--------------------------------------------------\")\n",
    "    print(\"\\n\")"
   ]
  }
 ],
 "metadata": {
  "kernelspec": {
   "display_name": ".venv",
   "language": "python",
   "name": "python3"
  },
  "language_info": {
   "codemirror_mode": {
    "name": "ipython",
    "version": 3
   },
   "file_extension": ".py",
   "mimetype": "text/x-python",
   "name": "python",
   "nbconvert_exporter": "python",
   "pygments_lexer": "ipython3",
   "version": "3.13.2"
  }
 },
 "nbformat": 4,
 "nbformat_minor": 5
}
